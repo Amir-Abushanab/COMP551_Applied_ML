{
 "cells": [
  {
   "cell_type": "markdown",
   "metadata": {},
   "source": [
    "# COMP551 Assignment 3"
   ]
  },
  {
   "cell_type": "markdown",
   "metadata": {},
   "source": [
    "## Amir Abushanab - _260624419_"
   ]
  },
  {
   "cell_type": "markdown",
   "metadata": {},
   "source": [
    "### To ensure the code runs correctly, please use the latest version of Jupyter Notebooks with Python 3.x"
   ]
  },
  {
   "cell_type": "code",
   "execution_count": 1,
   "metadata": {},
   "outputs": [
    {
     "data": {
      "text/html": [
       "<script>\n",
       "code_show=true; \n",
       "function code_toggle() {\n",
       " if (code_show){\n",
       " $('div.input').hide();\n",
       " } else {\n",
       " $('div.input').show();\n",
       " }\n",
       " code_show = !code_show\n",
       "} \n",
       "$( document ).ready(code_toggle);\n",
       "</script>\n",
       "The raw code for this IPython notebook is by default hidden for easier reading.\n",
       "To toggle on/off the raw code, click <a href=\"javascript:code_toggle()\">here</a>."
      ],
      "text/plain": [
       "<IPython.core.display.HTML object>"
      ]
     },
     "execution_count": 1,
     "metadata": {},
     "output_type": "execute_result"
    }
   ],
   "source": [
    "from IPython.display import HTML\n",
    "\n",
    "HTML('''<script>\n",
    "code_show=true; \n",
    "function code_toggle() {\n",
    " if (code_show){\n",
    " $('div.input').hide();\n",
    " } else {\n",
    " $('div.input').show();\n",
    " }\n",
    " code_show = !code_show\n",
    "} \n",
    "$( document ).ready(code_toggle);\n",
    "</script>\n",
    "The raw code for this IPython notebook is by default hidden for easier reading.\n",
    "To toggle on/off the raw code, click <a href=\"javascript:code_toggle()\">here</a>.''')"
   ]
  },
  {
   "cell_type": "code",
   "execution_count": 2,
   "metadata": {
    "collapsed": true
   },
   "outputs": [],
   "source": [
    "# First let's begin by importing all the libraries I'll likely be using during the assignment\n",
    "\n",
    "import numpy as np\n",
    "import pandas as pd\n",
    "import matplotlib.pyplot as plt\n",
    "import string\n",
    "import csv\n",
    "from collections import Counter\n",
    "from operator import itemgetter\n",
    "import itertools\n",
    "from scipy import sparse\n",
    "import re\n",
    "from sklearn.utils import shuffle\n",
    "from sklearn.dummy import DummyClassifier\n",
    "from sklearn.naive_bayes import BernoulliNB, GaussianNB, MultinomialNB\n",
    "from sklearn.tree import DecisionTreeClassifier\n",
    "from sklearn.svm import LinearSVC\n",
    "from sklearn.metrics import f1_score, confusion_matrix\n",
    "import warnings\n",
    "warnings.filterwarnings(\"ignore\")\n",
    "\n",
    "# To make the figures bigger\n",
    "plt.rcParams['figure.figsize'] = (20.0, 10.0)\n",
    "plt.rcParams.update({'font.size': 22})"
   ]
  },
  {
   "cell_type": "markdown",
   "metadata": {},
   "source": [
    "### Q1:"
   ]
  },
  {
   "cell_type": "markdown",
   "metadata": {},
   "source": [
    "No need to re-run the code in this question as the output is already in the folder."
   ]
  },
  {
   "cell_type": "code",
   "execution_count": 3,
   "metadata": {
    "collapsed": true
   },
   "outputs": [],
   "source": [
    "yelp_train = pd.read_csv(\"yelp-train.txt\", sep='\\t', header=None)\n",
    "yelp_test = pd.read_csv(\"yelp-test.txt\", sep='\\t', header=None)\n",
    "yelp_valid = pd.read_csv(\"yelp-valid.txt\", sep='\\t', header=None)\n",
    "\n",
    "IMDB_train = pd.read_csv(\"IMDB-train.txt\", sep='\\t', header=None)\n",
    "IMDB_test = pd.read_csv(\"IMDB-test.txt\", sep='\\t', header=None)\n",
    "IMDB_valid = pd.read_csv(\"IMDB-valid.txt\", sep='\\t', header=None)\n",
    "\n",
    "punctuation_table = str.maketrans(dict.fromkeys(string.punctuation))\n",
    "printable_table = str.maketrans(dict.fromkeys(string.printable))\n",
    "TAG_RE = re.compile(r'<[^>]+>')\n",
    "\n",
    "def create_vocab_table(data):\n",
    "\n",
    "    \"\"\"A function that returns a creates a file containing the vocabulary in a dataset, in the format\n",
    "    specified in the assignment (Word, id, number of occurences)\"\"\"\n",
    "\n",
    "    tempC = Counter()\n",
    "\n",
    "    for index, review in data.iterrows():\n",
    "        # Convert all uppercase to lower, remove punctuation and remove non-ascii characters\n",
    "        S = review[0].lower().translate(punctuation_table).encode('ascii', errors='ignore').decode()\n",
    "        # Remove HTML tags\n",
    "        S = TAG_RE.sub('', S)\n",
    "        C = Counter(S.split())\n",
    "        tempC = tempC + C\n",
    "\n",
    "    result = []\n",
    "    counter = 1\n",
    "    for word, value in sorted(tempC.items(), key=itemgetter(1), reverse=True):\n",
    "        result.append((word, counter, value))\n",
    "        counter += 1\n",
    "        if counter > 10000:\n",
    "            return result\n",
    "\n",
    "    while counter <= 10000:\n",
    "        result.append((\"0\", counter, 0))\n",
    "        counter += 1\n",
    "\n",
    "    return result\n",
    "\n",
    "\n",
    "yelp_vocab = create_vocab_table(yelp_train)\n",
    "IMDB_vocab = create_vocab_table(IMDB_train)\n",
    "\n",
    "yelp_vocab_file = open(\"yelp-vocab.txt\", 'w')\n",
    "IMDB_vocab_file = open(\"IMDB-vocab.txt\", 'w')\n",
    "\n",
    "for line in yelp_vocab:\n",
    "    yelp_vocab_file.write('\\t'.join(str(s) for s in line) + '\\n')\n",
    "\n",
    "for line in IMDB_vocab:\n",
    "    IMDB_vocab_file.write('\\t'.join(str(s) for s in line) + '\\n')\n",
    "\n",
    "yelp_vocab_file.close()\n",
    "IMDB_vocab_file.close()"
   ]
  },
  {
   "cell_type": "code",
   "execution_count": 5,
   "metadata": {
    "collapsed": true
   },
   "outputs": [],
   "source": [
    "yelp_train = pd.read_csv(\"yelp-train.txt\", sep='\\t', header=None)\n",
    "yelp_test = pd.read_csv(\"yelp-test.txt\", sep='\\t', header=None)\n",
    "yelp_valid = pd.read_csv(\"yelp-valid.txt\", sep='\\t', header=None)\n",
    "\n",
    "IMDB_train = pd.read_csv(\"IMDB-train.txt\", sep='\\t', header=None)\n",
    "IMDB_test = pd.read_csv(\"IMDB-test.txt\", sep='\\t', header=None)\n",
    "IMDB_valid = pd.read_csv(\"IMDB-valid.txt\", sep='\\t', header=None)\n",
    "\n",
    "punctuation_table = str.maketrans(dict.fromkeys(string.punctuation))\n",
    "printable_table = str.maketrans(dict.fromkeys(string.printable))\n",
    "TAG_RE = re.compile(r'<[^>]+>')\n",
    "\n",
    "def word_to_numeric(data, translation_table):\n",
    "\n",
    "    \"\"\"Given a translation table and a data set, converts the words to their numeric representation and discards the\n",
    "    words not in the translation table\"\"\"\n",
    "\n",
    "    def column(multi_array, col):\n",
    "\n",
    "        \"\"\"A function for getting a column from a 2-D Python List\"\"\"\n",
    "\n",
    "        return [row[col] for row in multi_array]\n",
    "\n",
    "    words = column(translation_table, 0)\n",
    "    numbers = column(translation_table, 1)\n",
    "\n",
    "    for index, review in data.iterrows():\n",
    "\n",
    "        S = review[0].lower().translate(punctuation_table)\n",
    "        S_copy = S\n",
    "        for word in S_copy.split(' '):\n",
    "            try:\n",
    "                S = re.sub(r\"\\b%s\\b\" % word, str(numbers[words.index(word)]), S)\n",
    "            except ValueError:\n",
    "                S = re.sub(r\"\\b%s\\b\" % word, \"\", S)\n",
    "\n",
    "        data.iat[index, 0] = S\n",
    "\n",
    "    return data\n",
    "\n",
    "yelp_vocab_file = open(\"yelp-vocab.txt\", 'r')\n",
    "IMDB_vocab_file = open(\"IMDB-vocab.txt\", 'r')\n",
    "\n",
    "yelp_vocab_table = []\n",
    "IMDB_vocab_table = []\n",
    "\n",
    "with open(\"yelp-vocab.txt\") as input:\n",
    "    for line in input:\n",
    "        temp = line.split('\\t')\n",
    "        yelp_vocab_table.append([temp[0], int(temp[1]), int(temp[2])])\n",
    "\n",
    "with open(\"IMDB-vocab.txt\") as input:\n",
    "    for line in input:\n",
    "        temp = line.split('\\t')\n",
    "        IMDB_vocab_table.append([temp[0], int(temp[1]), int(temp[2])])\n",
    "\n",
    "# As I'd rather not overwrite the orginial dataset with mine, I've opted to change the naming convention from that specified in the assignment\n",
    "pd.DataFrame.to_csv(word_to_numeric(yelp_train, yelp_vocab_table), path_or_buf=\"yelp-train-numeric.txt\", sep='\\t', header=None, index=False)\n",
    "pd.DataFrame.to_csv(word_to_numeric(yelp_valid, yelp_vocab_table), path_or_buf=\"yelp-valid-numeric.txt\", sep='\\t', header=None, index=False)\n",
    "pd.DataFrame.to_csv(word_to_numeric(yelp_test, yelp_vocab_table), path_or_buf=\"yelp-test-numeric.txt\", sep='\\t', header=None, index=False)\n",
    "pd.DataFrame.to_csv(word_to_numeric(IMDB_train, IMDB_vocab_table), path_or_buf=\"IMDB-train-numeric.txt\", sep='\\t', header=None, index=False)\n",
    "pd.DataFrame.to_csv(word_to_numeric(IMDB_valid, IMDB_vocab_table), path_or_buf=\"IMDB-valid-numeric.txt\", sep='\\t', header=None, index=False)\n",
    "pd.DataFrame.to_csv(word_to_numeric(IMDB_test, IMDB_vocab_table), path_or_buf=\"IMDB-test-numeric.txt\", sep='\\t', header=None, index=False)"
   ]
  },
  {
   "cell_type": "markdown",
   "metadata": {},
   "source": [
    "### Q2:"
   ]
  },
  {
   "cell_type": "code",
   "execution_count": 3,
   "metadata": {},
   "outputs": [],
   "source": [
    "yelp_train = pd.read_csv(\"yelp-train-numeric.txt\", sep='\\t', header=None, encoding='ISO-8859-1', dtype=None)\n",
    "yelp_test = pd.read_csv(\"yelp-test-numeric.txt\", sep='\\t', header=None, encoding='ISO-8859-1', dtype=None)\n",
    "yelp_valid = pd.read_csv(\"yelp-valid-numeric.txt\", sep='\\t', header=None, encoding='ISO-8859-1', dtype=None)\n",
    "\n",
    "IMDB_train = pd.read_csv(\"IMDB-train-numeric.txt\", sep='\\t', header=None, encoding='ISO-8859-1', dtype=None)\n",
    "IMDB_test = pd.read_csv(\"IMDB-test-numeric.txt\", sep='\\t', header=None, encoding='ISO-8859-1', dtype=None)\n",
    "IMDB_valid = pd.read_csv(\"IMDB-valid-numeric.txt\", sep='\\t', header=None, encoding='ISO-8859-1', dtype=None)\n",
    "\n",
    "def binary_vectorize_toMatrix(data):\n",
    "    \n",
    "    \"\"\"Given a numeric string generated from a vocabulary table return a binary vector representation of\n",
    "         each feature as a nx10000 matrix.\"\"\"\n",
    "    \n",
    "    result = sparse.lil_matrix((data.shape[0], 10000))\n",
    "    for index, row in data.iterrows():\n",
    "        if type(row[0]) == type('str'):\n",
    "            for number in row[0].split(' '):\n",
    "                try:\n",
    "                    result[index, int(number) - 1] = 1\n",
    "                except ValueError:\n",
    "                    pass\n",
    "\n",
    "    # Because spare matrices and pd dataframes don't work well together I had to result to returning a matrix rather\n",
    "    # than a dataframe, even though it would have made more sense (and made my work easier) to return a dataframe...\n",
    "    return result.tocsr()\n",
    "\n",
    "def frequency_vectorize_toMatrix(data):\n",
    "\n",
    "    \"\"\"Given a numeric string generated from a vocabulary table return a frequency occurence vector representation of\n",
    "         each feature as a nx10000 matrix.\"\"\"\n",
    "\n",
    "    result = sparse.lil_matrix((data.shape[0], 10000))\n",
    "    for index, row in data.iterrows():\n",
    "        if type(row[0]) == type('str'):\n",
    "            split = row[0].split(' ')\n",
    "            for number in split:\n",
    "                try:\n",
    "                    result[index, int(number) - 1] += (1/len(split))\n",
    "                except ValueError:\n",
    "                    pass\n",
    "\n",
    "    # Because spare matrices and pd dataframes don't work well together I had to result to returning a matrix rather\n",
    "    # than a dataframe, even though it would have made more sense (and made my work easier) to return a dataframe...\n",
    "    return result.tocsr()\n",
    "\n",
    "def auto_training(model, train_data, train_pred_cols, valid_data, valid_pred_cols, test_data, test_pred_cols,\n",
    "                  speedy=False, parameters=None, full_results=False, model_name=\"\", weighted_mean = True):\n",
    "\n",
    "    \"\"\"\n",
    "\n",
    "    Returns the best trained ML model given the input data and the column(s) which are being predicted.\n",
    "\n",
    "    Speedy === True use only 20% of the data for training, validation and testing. Should not have a significant\n",
    "    affect on the result but nonetheless should be reserved for testing.\n",
    "\n",
    "    full_results == True Display results for training and test sets in addition to the validation set\n",
    "\n",
    "    \"\"\"\n",
    "\n",
    "    if speedy == True:\n",
    "        train_data = train_data[:int((train_data.shape[0] * 0.2))]\n",
    "        train_pred_cols = train_pred_cols[:int((train_pred_cols.shape[0] * 0.2))]\n",
    "        valid_data = valid_data[:int((valid_data.shape[0] * 0.2))]\n",
    "        valid_pred_cols = valid_pred_cols[:int((valid_pred_cols.shape[0] * 0.2))]\n",
    "        test_data = test_data[:int((test_data.shape[0] * 0.2))]\n",
    "        test_pred_cols = test_pred_cols[:int((test_pred_cols.shape[0] * 0.2))]\n",
    "\n",
    "    if model != None or parameters == None:\n",
    "        print(\"------------------------------------------------\")\n",
    "        model.fit(train_data, train_pred_cols)\n",
    "        pred_vals = pd.DataFrame(model.predict(train_data)).astype(int)\n",
    "        print(model)\n",
    "        print(\"*****************\")\n",
    "        print(\"Train Data Performance:\")\n",
    "        print(\"*****************\")\n",
    "        print(\"Confusion Matrix: \\n\", confusion_matrix(train_pred_cols.astype(int), pred_vals))\n",
    "        print(\"F1 Score: \", f1_score(train_pred_cols.astype(int), pred_vals, average='micro'))\n",
    "        print(\"Mean F1 Score: \", f1_score(train_pred_cols.astype(int), pred_vals, average='macro'))\n",
    "        \n",
    "        if weighted_mean:\n",
    "            print(\"Weighted Mean F1 Score: \", f1_score(train_pred_cols.astype(int), pred_vals, average='weighted'))\n",
    "        \n",
    "        print(\"*****************\")\n",
    "        pred_vals = pd.DataFrame(model.predict(valid_data)).astype(int)\n",
    "        print(\"Validation Data Performance:\")\n",
    "        print(\"*****************\")\n",
    "        print(\"Confusion Matrix: \\n\", confusion_matrix(valid_pred_cols.astype(int), pred_vals))\n",
    "        print(\"F1 Score: \", f1_score(valid_pred_cols.astype(int), pred_vals, average='micro'))\n",
    "        print(\"Mean F1 Score: \", f1_score(valid_pred_cols.astype(int), pred_vals, average='macro'))\n",
    "        \n",
    "        if weighted_mean:\n",
    "            print(\"Weighted Mean F1 Score: \", f1_score(valid_pred_cols.astype(int), pred_vals, average='weighted'))\n",
    "        \n",
    "        print(\"*****************\")\n",
    "        pred_vals = pd.DataFrame(model.predict(test_data)).astype(int)\n",
    "        print(\"Test Data Performance:\")\n",
    "        print(\"*****************\")\n",
    "        print(\"Confusion Matrix: \\n\", confusion_matrix(test_pred_cols.astype(int), pred_vals))\n",
    "        print(\"F1 Score: \", f1_score(test_pred_cols.astype(int), pred_vals, average='micro'))\n",
    "        print(\"Mean F1 Score: \", f1_score(test_pred_cols.astype(int), pred_vals, average='macro'))\n",
    "        \n",
    "        if weighted_mean:\n",
    "            print(\"Weighted Mean F1 Score: \", f1_score(test_pred_cols.astype(int), pred_vals, average='weighted'))\n",
    "        \n",
    "        print(\"------------------------------------------------\")\n",
    "        print(\"\\n\")\n",
    "\n",
    "        return model\n",
    "\n",
    "    best_model = None\n",
    "    best_f1 = -1\n",
    "\n",
    "    if model_name == \"Bernoulli\" or model_name == \"Multinomial\":\n",
    "\n",
    "        for alpha in parameters.get('alpha'):\n",
    "            for fit_prior in parameters.get('fit_prior'):\n",
    "                if model_name == \"Bernoulli\":\n",
    "                    model = BernoulliNB(alpha=alpha, fit_prior=fit_prior)\n",
    "                else:\n",
    "                    model = MultinomialNB(alpha=alpha, fit_prior=fit_prior)\n",
    "\n",
    "                model.fit(train_data, train_pred_cols)\n",
    "                temp_pred_vals = pd.DataFrame(model.predict(valid_data)).astype(int)\n",
    "                new_f1 = f1_score(valid_pred_cols.astype(int), temp_pred_vals, average='weighted')\n",
    "\n",
    "                if best_f1 < new_f1:\n",
    "                    best_f1 = new_f1\n",
    "                    best_model = model\n",
    "\n",
    "    if model_name == \"DecisionTree\":\n",
    "\n",
    "        for criteria in parameters.get(\"criteria\"):\n",
    "\n",
    "            for splitter in parameters.get(\"splitter\"):\n",
    "\n",
    "                for class_weight in parameters.get(\"class_weight\"):\n",
    "\n",
    "                    for min_samples_split in parameters.get(\"min_samples_split\"):\n",
    "\n",
    "                        for min_samples_leaf in parameters.get(\"min_samples_leaf\"):\n",
    "\n",
    "                            for max_depth in parameters.get(\"max_depth\"):\n",
    "\n",
    "                                model = DecisionTreeClassifier(class_weight=class_weight, criterion=criteria,\n",
    "                                                               splitter=splitter, min_samples_leaf=min_samples_leaf,\n",
    "                                                               min_impurity_split=min_samples_split, max_depth=max_depth)\n",
    "\n",
    "                                model.fit(train_data, train_pred_cols)\n",
    "                                temp_pred_vals = pd.DataFrame(model.predict(valid_data)).astype(int)\n",
    "                                new_f1 = f1_score(valid_pred_cols.astype(int), temp_pred_vals, average='weighted')\n",
    "\n",
    "                                if best_f1 < new_f1:\n",
    "                                    best_f1 = new_f1\n",
    "                                    best_model = model\n",
    "\n",
    "    if model_name == \"LinearSVC\":\n",
    "\n",
    "            for penalty in parameters.get(\"penalty\"):\n",
    "\n",
    "                for loss in parameters.get(\"loss\"):\n",
    "\n",
    "                    # Necessary because the combination of l1 loss and a penalty is not doable\n",
    "                    if penalty == 'l1' and (loss == 'hinge' or loss == 'squared_hinge'):\n",
    "                        continue\n",
    "\n",
    "                    for tol in parameters.get(\"tol\"):\n",
    "\n",
    "                        for C in parameters.get(\"C\"):\n",
    "\n",
    "                            for max_iter in parameters.get(\"max_iter\"):\n",
    "\n",
    "                                for class_weight in parameters.get(\"class_weight\"):\n",
    "\n",
    "                                    model = LinearSVC(penalty=penalty, loss=loss, tol=tol, C=C, max_iter=max_iter,\n",
    "                                                      class_weight=class_weight)\n",
    "\n",
    "                                    model.fit(train_data, train_pred_cols)\n",
    "                                    temp_pred_vals = pd.DataFrame(model.predict(valid_data)).astype(int)\n",
    "                                    new_f1 = f1_score(valid_pred_cols.astype(int), temp_pred_vals, average='weighted')\n",
    "\n",
    "                                    if best_f1 < new_f1:\n",
    "                                        best_f1 = new_f1\n",
    "                                        best_model = model\n",
    "\n",
    "    print(\"------------------------------------------------\")\n",
    "    print(best_model)\n",
    "\n",
    "    if full_results:\n",
    "\n",
    "        pred_vals = pd.DataFrame(best_model.predict(train_data)).astype(int)\n",
    "        print(\"*****************\")\n",
    "        print(\"Train Data Performance:\")\n",
    "        print(\"*****************\")\n",
    "        print(\"Confusion Matrix: \\n\", confusion_matrix(train_pred_cols.astype(int), pred_vals))\n",
    "        print(\"F1 Score: \", f1_score(train_pred_cols.astype(int), pred_vals, average='micro'))\n",
    "        print(\"Mean F1 Score: \", f1_score(train_pred_cols.astype(int), pred_vals, average='macro'))\n",
    "        \n",
    "        if weighted_mean:\n",
    "            print(\"Weighted Mean F1 Score: \", f1_score(train_pred_cols.astype(int), pred_vals, average='weighted'))\n",
    "        \n",
    "        print(\"*****************\")\n",
    "\n",
    "    pred_vals = pd.DataFrame(best_model.predict(valid_data)).astype(int)\n",
    "    print(\"Validation Data Performance:\")\n",
    "    print(\"*****************\")\n",
    "    print(\"Confusion Matrix: \\n\", confusion_matrix(valid_pred_cols.astype(int), pred_vals))\n",
    "    print(\"F1 Score: \", f1_score(valid_pred_cols.astype(int), pred_vals, average='micro'))\n",
    "    print(\"Mean F1 Score: \", f1_score(valid_pred_cols.astype(int), pred_vals, average='macro'))\n",
    "    \n",
    "    if weighted_mean:\n",
    "        print(\"Weighted Mean F1 Score: \", f1_score(valid_pred_cols.astype(int), pred_vals, average='weighted'))\n",
    "    \n",
    "    print(\"*****************\")\n",
    "\n",
    "    if full_results:\n",
    "\n",
    "        pred_vals = pd.DataFrame(best_model.predict(test_data)).astype(int)\n",
    "        print(\"Test Data Performance:\")\n",
    "        print(\"*****************\")\n",
    "        print(\"Confusion Matrix: \\n\", confusion_matrix(test_pred_cols.astype(int), pred_vals))\n",
    "        print(\"F1 Score: \", f1_score(test_pred_cols.astype(int), pred_vals, average='micro'))\n",
    "        print(\"Mean F1 Score: \", f1_score(test_pred_cols.astype(int), pred_vals, average='macro'))\n",
    "        \n",
    "        if weighted_mean:\n",
    "            print(\"Weighted Mean F1 Score: \", f1_score(test_pred_cols.astype(int), pred_vals, average='weighted'))\n",
    "        \n",
    "        print(\"------------------------------------------------\")\n",
    "\n",
    "    print(\"\\n\")\n",
    "\n",
    "    return best_model\n",
    "\n",
    "    \n",
    "yelp_train_binary_matrix = binary_vectorize_toMatrix(yelp_train)\n",
    "yelp_valid_binary_matrix = binary_vectorize_toMatrix(yelp_valid)\n",
    "yelp_test_binary_matrix = binary_vectorize_toMatrix(yelp_test)"
   ]
  },
  {
   "cell_type": "markdown",
   "metadata": {},
   "source": [
    "The uniform random and majority classifiers' results (to provide a baseline for comparision):"
   ]
  },
  {
   "cell_type": "code",
   "execution_count": 5,
   "metadata": {},
   "outputs": [
    {
     "name": "stdout",
     "output_type": "stream",
     "text": [
      "------------------------------------------------\n",
      "DummyClassifier(constant=None, random_state=None, strategy='uniform')\n",
      "*****************\n",
      "Train Data Performance:\n",
      "*****************\n",
      "Confusion Matrix: \n",
      " [[101  99 103 119 100]\n",
      " [123 131 131 135 121]\n",
      " [193 206 198 211 189]\n",
      " [492 486 533 473 484]\n",
      " [494 463 468 487 460]]\n",
      "F1 Score:  0.194714285714\n",
      "Mean F1 Score:  0.177426143981\n",
      "Weighted Mean F1 Score:  0.212221030037\n",
      "*****************\n",
      "Validation Data Performance:\n",
      "*****************\n",
      "Confusion Matrix: \n",
      " [[13 18 26 13 14]\n",
      " [21 27 11 17 20]\n",
      " [35 33 28 36 32]\n",
      " [66 68 65 83 74]\n",
      " [64 59 49 46 82]]\n",
      "F1 Score:  0.233\n",
      "Mean F1 Score:  0.209997350726\n",
      "Weighted Mean F1 Score:  0.25322055822\n",
      "*****************\n",
      "Test Data Performance:\n",
      "*****************\n",
      "Confusion Matrix: \n",
      " [[ 28  26  27  27  35]\n",
      " [ 25  49  52  33  31]\n",
      " [ 54  65  67  55  59]\n",
      " [139 159 141 152 111]\n",
      " [124 117 144 151 129]]\n",
      "F1 Score:  0.2125\n",
      "Mean F1 Score:  0.195220501365\n",
      "Weighted Mean F1 Score:  0.229222520896\n",
      "------------------------------------------------\n",
      "\n",
      "\n"
     ]
    }
   ],
   "source": [
    "yelp_uniform_random_classifier = DummyClassifier(strategy='uniform')\n",
    "\n",
    "yelp_uniform_random_classifier = auto_training(yelp_uniform_random_classifier, yelp_train_binary_matrix, yelp_train[1], yelp_valid_binary_matrix,\n",
    "              yelp_valid[1], yelp_test_binary_matrix, yelp_test[1], speedy=False, full_results=True)"
   ]
  },
  {
   "cell_type": "code",
   "execution_count": 6,
   "metadata": {},
   "outputs": [
    {
     "name": "stdout",
     "output_type": "stream",
     "text": [
      "------------------------------------------------\n",
      "DummyClassifier(constant=None, random_state=None, strategy='most_frequent')\n",
      "*****************\n",
      "Train Data Performance:\n",
      "*****************\n",
      "Confusion Matrix: \n",
      " [[   0    0    0  522    0]\n",
      " [   0    0    0  641    0]\n",
      " [   0    0    0  997    0]\n",
      " [   0    0    0 2468    0]\n",
      " [   0    0    0 2372    0]]\n",
      "F1 Score:  0.352571428571\n",
      "Mean F1 Score:  0.104267004647\n",
      "Weighted Mean F1 Score:  0.183807833907\n",
      "*****************\n",
      "Validation Data Performance:\n",
      "*****************\n",
      "Confusion Matrix: \n",
      " [[  0   0   0  84   0]\n",
      " [  0   0   0  96   0]\n",
      " [  0   0   0 164   0]\n",
      " [  0   0   0 356   0]\n",
      " [  0   0   0 300   0]]\n",
      "F1 Score:  0.356\n",
      "Mean F1 Score:  0.105014749263\n",
      "Weighted Mean F1 Score:  0.186926253687\n",
      "*****************\n",
      "Test Data Performance:\n",
      "*****************\n",
      "Confusion Matrix: \n",
      " [[  0   0   0 143   0]\n",
      " [  0   0   0 190   0]\n",
      " [  0   0   0 300   0]\n",
      " [  0   0   0 702   0]\n",
      " [  0   0   0 665   0]]\n",
      "F1 Score:  0.351\n",
      "Mean F1 Score:  0.103923019985\n",
      "Weighted Mean F1 Score:  0.182384900074\n",
      "------------------------------------------------\n",
      "\n",
      "\n"
     ]
    }
   ],
   "source": [
    "yelp_majority_classifier = DummyClassifier(strategy='most_frequent')\n",
    "\n",
    "yelp_majority_classifier = auto_training(yelp_majority_classifier, yelp_train_binary_matrix, yelp_train[1], yelp_valid_binary_matrix,\n",
    "              yelp_valid[1], yelp_test_binary_matrix, yelp_test[1], speedy=False, full_results=True)"
   ]
  },
  {
   "cell_type": "markdown",
   "metadata": {},
   "source": [
    "Tuning the (Bernoulli) Naive Bayes model - first I tried setting fit_prior to both true and false and then tried varying the values of $\\alpha$ by factors of 10 (i.e 0.0000001, 0.000001,...100) to narrow down the range."
   ]
  },
  {
   "cell_type": "code",
   "execution_count": 7,
   "metadata": {},
   "outputs": [
    {
     "name": "stdout",
     "output_type": "stream",
     "text": [
      "------------------------------------------------\n",
      "BernoulliNB(alpha=0.01, binarize=0.0, class_prior=None, fit_prior=False)\n",
      "Validation Data Performance:\n",
      "*****************\n",
      "Confusion Matrix: \n",
      " [[ 32  13   8   9  22]\n",
      " [ 11  22  19  24  20]\n",
      " [  6   9  44  55  50]\n",
      " [  6  10  33 150 157]\n",
      " [  5   8  12  93 182]]\n",
      "F1 Score:  0.43\n",
      "Mean F1 Score:  0.394368082102\n",
      "Weighted Mean F1 Score:  0.4204532879\n",
      "*****************\n",
      "\n",
      "\n"
     ]
    }
   ],
   "source": [
    "naive_bayes_params = dict(alpha=np.array([100, 10, 1, 0.1, 0.01, 0.001, 0.0001, 0.00001, 0.000001, 0.0000001]),\n",
    "                          fit_prior=[True, False])\n",
    "\n",
    "yelp_binary_NBC = auto_training(None, yelp_train_binary_matrix, yelp_train.loc[:, [1]], yelp_valid_binary_matrix,\n",
    "              yelp_valid.loc[:, [1]], yelp_test_binary_matrix, yelp_test.loc[:, [1]], speedy=False,\n",
    "              parameters=naive_bayes_params, model_name=\"Bernoulli\")"
   ]
  },
  {
   "cell_type": "markdown",
   "metadata": {},
   "source": [
    "Then narrowed down the range of $\\alpha$s between 0.09 and 0.002 and reported the complete preformance"
   ]
  },
  {
   "cell_type": "code",
   "execution_count": 8,
   "metadata": {},
   "outputs": [
    {
     "name": "stdout",
     "output_type": "stream",
     "text": [
      "------------------------------------------------\n",
      "BernoulliNB(alpha=0.01, binarize=0.0, class_prior=None, fit_prior=False)\n",
      "*****************\n",
      "Train Data Performance:\n",
      "*****************\n",
      "Confusion Matrix: \n",
      " [[ 403    3    6    4  106]\n",
      " [  13  448   14   31  135]\n",
      " [   5   11  721   39  221]\n",
      " [   9   27   38 1590  804]\n",
      " [  12   21   44  188 2107]]\n",
      "F1 Score:  0.752714285714\n",
      "Mean F1 Score:  0.77529586098\n",
      "Weighted Mean F1 Score:  0.754566461109\n",
      "*****************\n",
      "Validation Data Performance:\n",
      "*****************\n",
      "Confusion Matrix: \n",
      " [[ 32  13   8   9  22]\n",
      " [ 11  22  19  24  20]\n",
      " [  6   9  44  55  50]\n",
      " [  6  10  33 150 157]\n",
      " [  5   8  12  93 182]]\n",
      "F1 Score:  0.43\n",
      "Mean F1 Score:  0.394368082102\n",
      "Weighted Mean F1 Score:  0.4204532879\n",
      "*****************\n",
      "Test Data Performance:\n",
      "*****************\n",
      "Confusion Matrix: \n",
      " [[ 46  28  22  13  34]\n",
      " [ 26  38  38  36  52]\n",
      " [ 12  26  66  97  99]\n",
      " [  9  18  66 310 299]\n",
      " [  9  10  25 210 411]]\n",
      "F1 Score:  0.4355\n",
      "Mean F1 Score:  0.371226018906\n",
      "Weighted Mean F1 Score:  0.422718044958\n",
      "------------------------------------------------\n",
      "\n",
      "\n"
     ]
    }
   ],
   "source": [
    "narrowed_naive_bayes_params = dict(alpha=np.arange(0.002, 0.099, 0.001), fit_prior=[False])\n",
    "\n",
    "yelp_binary_NBC = auto_training(None, yelp_train_binary_matrix, yelp_train.loc[:, [1]], yelp_valid_binary_matrix,\n",
    "              yelp_valid.loc[:, [1]], yelp_test_binary_matrix, yelp_test.loc[:, [1]], speedy=False, full_results=True,\n",
    "              parameters=narrowed_naive_bayes_params, model_name=\"Bernoulli\")"
   ]
  },
  {
   "cell_type": "markdown",
   "metadata": {},
   "source": [
    "Next for the Decision Tree Classifier, I tried using both Gini and Entropy (information gain) criterion, using best and random splitting criteria, using no and balanced class weights, and varying the min_samples_per_split from 2 to 10, the min_sample_leaf from 1 to 10, and the max_depth from 1 to 10."
   ]
  },
  {
   "cell_type": "code",
   "execution_count": 9,
   "metadata": {},
   "outputs": [
    {
     "name": "stdout",
     "output_type": "stream",
     "text": [
      "------------------------------------------------\n",
      "DecisionTreeClassifier(class_weight=None, criterion='entropy', max_depth=9,\n",
      "            max_features=None, max_leaf_nodes=None,\n",
      "            min_impurity_decrease=0.0, min_impurity_split=2,\n",
      "            min_samples_leaf=6, min_samples_split=2,\n",
      "            min_weight_fraction_leaf=0.0, presort=False, random_state=None,\n",
      "            splitter='best')\n",
      "Validation Data Performance:\n",
      "*****************\n",
      "Confusion Matrix: \n",
      " [[ 16   1   4  44  19]\n",
      " [  7   1   6  58  24]\n",
      " [  2   6   5 112  39]\n",
      " [  4   2   7 268  75]\n",
      " [  6   3   5 177 109]]\n",
      "F1 Score:  0.399\n",
      "Mean F1 Score:  0.250570007231\n",
      "Weighted Mean F1 Score:  0.336479852912\n",
      "*****************\n",
      "\n",
      "\n"
     ]
    }
   ],
   "source": [
    "decision_tree_params = dict(criteria=['gini', 'entropy'], splitter=['best', 'random'], max_depth=list(range(1, 10)),\n",
    "                            min_samples_split= list(range(2, 10)), min_samples_leaf=list(range(1, 10)), class_weight=[\"balanced\", None])\n",
    "\n",
    "yelp_binary_DTC = auto_training(None, yelp_train_binary_matrix, yelp_train.loc[:, [1]], yelp_valid_binary_matrix,\n",
    "              yelp_valid.loc[:, [1]], yelp_test_binary_matrix, yelp_test.loc[:, [1]], speedy=False,\n",
    "              parameters=decision_tree_params, model_name=\"DecisionTree\")"
   ]
  },
  {
   "cell_type": "markdown",
   "metadata": {},
   "source": [
    "It seems that increasing the max_depth may produce better results, so let's try increasing it while also varying values on min_samples_leaf and min_samples_split."
   ]
  },
  {
   "cell_type": "code",
   "execution_count": 10,
   "metadata": {},
   "outputs": [
    {
     "name": "stdout",
     "output_type": "stream",
     "text": [
      "------------------------------------------------\n",
      "DecisionTreeClassifier(class_weight=None, criterion='entropy', max_depth=18,\n",
      "            max_features=None, max_leaf_nodes=None,\n",
      "            min_impurity_decrease=0.0, min_impurity_split=2,\n",
      "            min_samples_leaf=14, min_samples_split=2,\n",
      "            min_weight_fraction_leaf=0.0, presort=False, random_state=None,\n",
      "            splitter='best')\n",
      "*****************\n",
      "Train Data Performance:\n",
      "*****************\n",
      "Confusion Matrix: \n",
      " [[ 162   55   34  138  133]\n",
      " [  46  122   50  284  139]\n",
      " [  26   62  141  601  167]\n",
      " [  52   48   75 1719  574]\n",
      " [  50   27   30 1324  941]]\n",
      "F1 Score:  0.440714285714\n",
      "Mean F1 Score:  0.361368779789\n",
      "Weighted Mean F1 Score:  0.414754043665\n",
      "*****************\n",
      "Validation Data Performance:\n",
      "*****************\n",
      "Confusion Matrix: \n",
      " [[ 20  14   4  24  22]\n",
      " [  8  10  11  38  29]\n",
      " [ 10   8  21  78  47]\n",
      " [  7  11  19 233  86]\n",
      " [ 14   9   4 158 115]]\n",
      "F1 Score:  0.399\n",
      "Mean F1 Score:  0.302507182891\n",
      "Weighted Mean F1 Score:  0.369579795175\n",
      "*****************\n",
      "Test Data Performance:\n",
      "*****************\n",
      "Confusion Matrix: \n",
      " [[ 22  11  13  50  47]\n",
      " [ 13  22  23  93  39]\n",
      " [  9  20  22 192  57]\n",
      " [ 13  16  29 491 153]\n",
      " [ 23  13  25 380 224]]\n",
      "F1 Score:  0.3905\n",
      "Mean F1 Score:  0.271720872714\n",
      "Weighted Mean F1 Score:  0.351850272599\n",
      "------------------------------------------------\n",
      "\n",
      "\n"
     ]
    }
   ],
   "source": [
    "narrowed_decision_tree_params = dict(criteria=['entropy'], splitter=['best'], max_depth=list(range(1, 30)),\n",
    "                            min_samples_split= list(range(2, 20)), min_samples_leaf=list(range(1, 20)), class_weight=[None])\n",
    "\n",
    "yelp_binary_DTC = auto_training(None, yelp_train_binary_matrix, yelp_train.loc[:, [1]], yelp_valid_binary_matrix,\n",
    "              yelp_valid.loc[:, [1]], yelp_test_binary_matrix, yelp_test.loc[:, [1]], speedy=False, full_results = True, \n",
    "              parameters=narrowed_decision_tree_params, model_name=\"DecisionTree\")"
   ]
  },
  {
   "cell_type": "markdown",
   "metadata": {},
   "source": [
    "Lastly for the Linear SVC I will start by varying the penalty between l1 and l2, the loss between hinged and square-hinged, the class_weight between balanced and unbalanced, the penalty parameter between 10000 and 0.0000001 by powers of 10, and the tolerance between 1 and 0.00000001 by powers of 10."
   ]
  },
  {
   "cell_type": "code",
   "execution_count": 11,
   "metadata": {},
   "outputs": [
    {
     "name": "stdout",
     "output_type": "stream",
     "text": [
      "------------------------------------------------\n",
      "LinearSVC(C=0.001, class_weight='balanced', dual=True, fit_intercept=True,\n",
      "     intercept_scaling=1, loss='squared_hinge', max_iter=1000,\n",
      "     multi_class='ovr', penalty='l2', random_state=None,\n",
      "     tol=0.10000000000000001, verbose=0)\n",
      "Validation Data Performance:\n",
      "*****************\n",
      "Confusion Matrix: \n",
      " [[ 53  17   5   3   6]\n",
      " [ 24  29  21  12  10]\n",
      " [ 10  35  57  44  18]\n",
      " [ 17  15  40 166 118]\n",
      " [ 18  11  11  58 202]]\n",
      "F1 Score:  0.507\n",
      "Mean F1 Score:  0.464025309295\n",
      "Weighted Mean F1 Score:  0.50367523461\n",
      "*****************\n",
      "\n",
      "\n"
     ]
    }
   ],
   "source": [
    "linear_SVC_params = dict(penalty=['l1', 'l2'], loss=['hinge', 'squared_hinge'], class_weight=[None, 'balanced'],\n",
    "                         tol=np.array([1, 0.1, 0.01, 0.001, 0.0001, 0.00001, 0.0000001, 0.00000001]), max_iter =[1000],\n",
    "                         C=([1000, 100, 10, 1, 0.1, 0.01, 0.001, 0.0001, 0.00001, 0.0000001, 0.00000001]))\n",
    "\n",
    "yelp_binary_LSVC = auto_training(None, yelp_train_binary_matrix, yelp_train.loc[:, [1]], yelp_valid_binary_matrix,\n",
    "              yelp_valid.loc[:, [1]], yelp_test_binary_matrix, yelp_test.loc[:, [1]], speedy=False,\n",
    "              parameters= linear_SVC_params, model_name=\"LinearSVC\")"
   ]
  },
  {
   "cell_type": "markdown",
   "metadata": {},
   "source": [
    "Now with the hyperparemters found I will narrow the hyperparameters search space and increase the max_iterations and see if that produces better results."
   ]
  },
  {
   "cell_type": "code",
   "execution_count": 12,
   "metadata": {},
   "outputs": [
    {
     "name": "stdout",
     "output_type": "stream",
     "text": [
      "------------------------------------------------\n",
      "LinearSVC(C=0.0064000000000000012, class_weight='balanced', dual=True,\n",
      "     fit_intercept=True, intercept_scaling=1, loss='squared_hinge',\n",
      "     max_iter=10000, multi_class='ovr', penalty='l2', random_state=None,\n",
      "     tol=3, verbose=0)\n",
      "*****************\n",
      "Train Data Performance:\n",
      "*****************\n",
      "Confusion Matrix: \n",
      " [[ 504    5    5    4    4]\n",
      " [  38  559   24   14    6]\n",
      " [  18   28  807   91   53]\n",
      " [  40   22  124 1840  442]\n",
      " [  29   21   56  280 1986]]\n",
      "F1 Score:  0.813714285714\n",
      "Mean F1 Score:  0.830796542901\n",
      "Weighted Mean F1 Score:  0.812740812631\n",
      "*****************\n",
      "Validation Data Performance:\n",
      "*****************\n",
      "Confusion Matrix: \n",
      " [[ 48  21   5   5   5]\n",
      " [ 21  29  26  13   7]\n",
      " [ 10  24  63  52  15]\n",
      " [  8  13  45 179 111]\n",
      " [  7   6  12  75 200]]\n",
      "F1 Score:  0.519\n",
      "Mean F1 Score:  0.479926797092\n",
      "Weighted Mean F1 Score:  0.515874991953\n",
      "*****************\n",
      "Test Data Performance:\n",
      "*****************\n",
      "Confusion Matrix: \n",
      " [[ 85  32   8  10   8]\n",
      " [ 36  61  60  24   9]\n",
      " [ 17  44  94 108  37]\n",
      " [ 20  20  89 334 239]\n",
      " [ 21  10  29 176 429]]\n",
      "F1 Score:  0.5015\n",
      "Mean F1 Score:  0.46115585242\n",
      "Weighted Mean F1 Score:  0.497685967212\n",
      "------------------------------------------------\n",
      "\n",
      "\n"
     ]
    }
   ],
   "source": [
    "narrowed_linear_SVC_params = dict(penalty=['l2'], loss=['squared_hinge'], class_weight=['balanced'],\n",
    "                         tol=np.array([3, 2, 1]), max_iter=[1000, 10000], C=np.arange(0.0002, 0.0099, 0.0001))\n",
    "\n",
    "yelp_binary_LSVC = auto_training(None, yelp_train_binary_matrix, yelp_train.loc[:, [1]], yelp_valid_binary_matrix,\n",
    "              yelp_valid.loc[:, [1]], yelp_test_binary_matrix, yelp_test.loc[:, [1]], speedy=False, full_results= True, \n",
    "              parameters= narrowed_linear_SVC_params, model_name=\"LinearSVC\")"
   ]
  },
  {
   "cell_type": "markdown",
   "metadata": {},
   "source": [
    "LinearSVC preformed the best on the binary multiclass dataset (but also took the longest to train). "
   ]
  },
  {
   "cell_type": "markdown",
   "metadata": {},
   "source": [
    "### Q3:"
   ]
  },
  {
   "cell_type": "markdown",
   "metadata": {},
   "source": [
    "In the same fashion as the previous question, I will start by searching with the same wide range of hyperparameters as before and narrow it down as necessary. Note that while the GaussianNB is more suitable, as the Sklearn classifier cannot handle sparse matrices it's far more efficient (and causes no memory errors) to use the MultinomialNB classifier."
   ]
  },
  {
   "cell_type": "code",
   "execution_count": 13,
   "metadata": {},
   "outputs": [
    {
     "name": "stdout",
     "output_type": "stream",
     "text": [
      "------------------------------------------------\n",
      "MultinomialNB(alpha=0.01, class_prior=None, fit_prior=False)\n",
      "Validation Data Performance:\n",
      "*****************\n",
      "Confusion Matrix: \n",
      " [[ 45  17  13   5   4]\n",
      " [ 16  26  28  24   2]\n",
      " [  6  18  67  65   8]\n",
      " [ 11  13  40 218  74]\n",
      " [ 19   9  10 110 152]]\n",
      "F1 Score:  0.508\n",
      "Mean F1 Score:  0.465452740939\n",
      "Weighted Mean F1 Score:  0.506299986787\n",
      "*****************\n",
      "\n",
      "\n"
     ]
    }
   ],
   "source": [
    "yelp_train_frequency_matrix = frequency_vectorize_toMatrix(yelp_train)\n",
    "yelp_valid_frequency_matrix = frequency_vectorize_toMatrix(yelp_valid)\n",
    "yelp_test_frequency_matrix = frequency_vectorize_toMatrix(yelp_test)\n",
    "\n",
    "yelp_freq_NBC = auto_training(None, yelp_train_frequency_matrix, yelp_train.loc[:, [1]], yelp_valid_frequency_matrix,\n",
    "              yelp_valid.loc[:, [1]], yelp_test_frequency_matrix, yelp_test.loc[:, [1]], speedy=False,\n",
    "              parameters=naive_bayes_params, model_name=\"Multinomial\")"
   ]
  },
  {
   "cell_type": "markdown",
   "metadata": {},
   "source": [
    "Narrowing down the range of $\\alpha$s between 0.09 and 0.002 and reporting the complete preformance."
   ]
  },
  {
   "cell_type": "code",
   "execution_count": 14,
   "metadata": {},
   "outputs": [
    {
     "name": "stdout",
     "output_type": "stream",
     "text": [
      "------------------------------------------------\n",
      "MultinomialNB(alpha=0.01, class_prior=None, fit_prior=False)\n",
      "*****************\n",
      "Train Data Performance:\n",
      "*****************\n",
      "Confusion Matrix: \n",
      " [[ 442   43   25   10    2]\n",
      " [  26  530   38   40    7]\n",
      " [  17   42  783  126   29]\n",
      " [  49   39  119 2016  245]\n",
      " [  49   41   71  418 1793]]\n",
      "F1 Score:  0.794857142857\n",
      "Mean F1 Score:  0.792784362447\n",
      "Weighted Mean F1 Score:  0.795157225678\n",
      "*****************\n",
      "Validation Data Performance:\n",
      "*****************\n",
      "Confusion Matrix: \n",
      " [[ 45  17  13   5   4]\n",
      " [ 16  26  28  24   2]\n",
      " [  6  18  67  65   8]\n",
      " [ 11  13  40 218  74]\n",
      " [ 19   9  10 110 152]]\n",
      "F1 Score:  0.508\n",
      "Mean F1 Score:  0.465452740939\n",
      "Weighted Mean F1 Score:  0.506299986787\n",
      "*****************\n",
      "Test Data Performance:\n",
      "*****************\n",
      "Confusion Matrix: \n",
      " [[ 75  35  18   7   8]\n",
      " [ 35  61  63  27   4]\n",
      " [ 18  31 113 122  16]\n",
      " [ 13  35  82 411 161]\n",
      " [ 18  17  33 237 360]]\n",
      "F1 Score:  0.51\n",
      "Mean F1 Score:  0.467461934021\n",
      "Weighted Mean F1 Score:  0.511368498084\n",
      "------------------------------------------------\n",
      "\n",
      "\n"
     ]
    }
   ],
   "source": [
    "narrowed_naive_bayes_params = dict(alpha=np.arange(0.002, 0.099, 0.001), fit_prior=[False])\n",
    "\n",
    "yelp_freq_NBC = yelp_frequency_naive_bayes_classifier = auto_training(None, yelp_train_frequency_matrix, yelp_train.loc[:, [1]], yelp_valid_frequency_matrix,\n",
    "              yelp_valid.loc[:, [1]], yelp_test_frequency_matrix, yelp_test.loc[:, [1]], speedy=False, full_results = True,\n",
    "              parameters=narrowed_naive_bayes_params, model_name=\"Multinomial\")"
   ]
  },
  {
   "cell_type": "markdown",
   "metadata": {},
   "source": [
    "Next with the Decision Tree Classifier:"
   ]
  },
  {
   "cell_type": "code",
   "execution_count": 15,
   "metadata": {},
   "outputs": [
    {
     "name": "stdout",
     "output_type": "stream",
     "text": [
      "------------------------------------------------\n",
      "DecisionTreeClassifier(class_weight=None, criterion='entropy', max_depth=9,\n",
      "            max_features=None, max_leaf_nodes=None,\n",
      "            min_impurity_decrease=0.0, min_impurity_split=2,\n",
      "            min_samples_leaf=7, min_samples_split=2,\n",
      "            min_weight_fraction_leaf=0.0, presort=False, random_state=None,\n",
      "            splitter='best')\n",
      "*****************\n",
      "Train Data Performance:\n",
      "*****************\n",
      "Confusion Matrix: \n",
      " [[  83   30   19  161  229]\n",
      " [  25   47   51  335  183]\n",
      " [   5   27  121  623  221]\n",
      " [   7   22   57 1682  700]\n",
      " [   3   14   21 1310 1024]]\n",
      "F1 Score:  0.422428571429\n",
      "Mean F1 Score:  0.302654506991\n",
      "Weighted Mean F1 Score:  0.384467032174\n",
      "*****************\n",
      "Validation Data Performance:\n",
      "*****************\n",
      "Confusion Matrix: \n",
      " [[  8   5   6  27  38]\n",
      " [  3   4   6  55  28]\n",
      " [  2   4  10  94  54]\n",
      " [  2   4   5 245 100]\n",
      " [  2   5   6 148 139]]\n",
      "F1 Score:  0.406\n",
      "Mean F1 Score:  0.255863262791\n",
      "Weighted Mean F1 Score:  0.351604322196\n",
      "*****************\n",
      "Test Data Performance:\n",
      "*****************\n",
      "Confusion Matrix: \n",
      " [[ 18   9   7  53  56]\n",
      " [  9  13  19 105  44]\n",
      " [  3   6  23 205  63]\n",
      " [  1   2  30 478 191]\n",
      " [  3   4   9 384 265]]\n",
      "F1 Score:  0.3985\n",
      "Mean F1 Score:  0.269379697117\n",
      "Weighted Mean F1 Score:  0.354733435356\n",
      "------------------------------------------------\n",
      "\n",
      "\n"
     ]
    }
   ],
   "source": [
    "yelp_freq_DTC = auto_training(None, yelp_train_frequency_matrix, yelp_train.loc[:, [1]], yelp_valid_frequency_matrix,\n",
    "              yelp_valid.loc[:, [1]], yelp_test_frequency_matrix, yelp_test.loc[:, [1]], speedy=False, full_results = True, \n",
    "              parameters=decision_tree_params, model_name=\"DecisionTree\")"
   ]
  },
  {
   "cell_type": "markdown",
   "metadata": {},
   "source": [
    "Similar to before, it may be the case that increasing the max_depth will produce better results."
   ]
  },
  {
   "cell_type": "code",
   "execution_count": 16,
   "metadata": {},
   "outputs": [
    {
     "name": "stdout",
     "output_type": "stream",
     "text": [
      "------------------------------------------------\n",
      "DecisionTreeClassifier(class_weight=None, criterion='entropy', max_depth=19,\n",
      "            max_features=None, max_leaf_nodes=None,\n",
      "            min_impurity_decrease=0.0, min_impurity_split=2,\n",
      "            min_samples_leaf=10, min_samples_split=2,\n",
      "            min_weight_fraction_leaf=0.0, presort=False, random_state=None,\n",
      "            splitter='best')\n",
      "*****************\n",
      "Train Data Performance:\n",
      "*****************\n",
      "Confusion Matrix: \n",
      " [[ 231   23   35  118  115]\n",
      " [  77  118  112  229  105]\n",
      " [  24   53  267  485  168]\n",
      " [  43   39  117 1660  609]\n",
      " [  47   31   57 1203 1034]]\n",
      "F1 Score:  0.472857142857\n",
      "Mean F1 Score:  0.419093445435\n",
      "Weighted Mean F1 Score:  0.457444669705\n",
      "*****************\n",
      "Validation Data Performance:\n",
      "*****************\n",
      "Confusion Matrix: \n",
      " [[ 21   9  10  23  21]\n",
      " [ 16   2  15  45  18]\n",
      " [  9   8  28  78  41]\n",
      " [ 10   9  29 220  88]\n",
      " [ 13   6   6 149 126]]\n",
      "F1 Score:  0.397\n",
      "Mean F1 Score:  0.291382031294\n",
      "Weighted Mean F1 Score:  0.369569106613\n",
      "*****************\n",
      "Test Data Performance:\n",
      "*****************\n",
      "Confusion Matrix: \n",
      " [[ 32  13  15  47  36]\n",
      " [ 25  17  36  73  39]\n",
      " [ 22  17  46 169  46]\n",
      " [ 15  17  52 454 164]\n",
      " [ 17  16  21 362 249]]\n",
      "F1 Score:  0.399\n",
      "Mean F1 Score:  0.298295109584\n",
      "Weighted Mean F1 Score:  0.373817099329\n",
      "------------------------------------------------\n",
      "\n",
      "\n"
     ]
    }
   ],
   "source": [
    "narrowed_decision_tree_params = dict(criteria=['entropy'], splitter=['best'], max_depth=list(range(1, 30)),\n",
    "                            min_samples_split= list(range(2, 20)), min_samples_leaf=list(range(1, 20)), class_weight=[None])\n",
    "\n",
    "yelp_freq_DTC = auto_training(None, yelp_train_frequency_matrix, yelp_train.loc[:, [1]], yelp_valid_frequency_matrix,\n",
    "              yelp_valid.loc[:, [1]], yelp_test_frequency_matrix, yelp_test.loc[:, [1]], speedy=False, full_results=True, \n",
    "              parameters=narrowed_decision_tree_params, model_name=\"DecisionTree\")"
   ]
  },
  {
   "cell_type": "markdown",
   "metadata": {},
   "source": [
    "Lastly with the Linear SVC:"
   ]
  },
  {
   "cell_type": "code",
   "execution_count": 17,
   "metadata": {},
   "outputs": [
    {
     "name": "stdout",
     "output_type": "stream",
     "text": [
      "------------------------------------------------\n",
      "LinearSVC(C=10, class_weight='balanced', dual=True, fit_intercept=True,\n",
      "     intercept_scaling=1, loss='squared_hinge', max_iter=1000,\n",
      "     multi_class='ovr', penalty='l2', random_state=None, tol=0.001,\n",
      "     verbose=0)\n",
      "Validation Data Performance:\n",
      "*****************\n",
      "Confusion Matrix: \n",
      " [[ 54  17   6   3   4]\n",
      " [ 26  36  19   9   6]\n",
      " [ 12  33  62  45  12]\n",
      " [ 18  18  51 163 106]\n",
      " [ 17  12  17  65 189]]\n",
      "F1 Score:  0.504\n",
      "Mean F1 Score:  0.472281574947\n",
      "Weighted Mean F1 Score:  0.504195397304\n",
      "*****************\n",
      "\n",
      "\n"
     ]
    }
   ],
   "source": [
    "yelp_freq_LSVC = auto_training(None, yelp_train_frequency_matrix, yelp_train.loc[:, [1]], yelp_valid_frequency_matrix,\n",
    "              yelp_valid.loc[:, [1]], yelp_test_frequency_matrix, yelp_test.loc[:, [1]], speedy=False,\n",
    "              parameters= linear_SVC_params, model_name=\"LinearSVC\")"
   ]
  },
  {
   "cell_type": "markdown",
   "metadata": {},
   "source": [
    "narrowing down the hyperparameter search space and increasing the number of max_iterations:"
   ]
  },
  {
   "cell_type": "code",
   "execution_count": 20,
   "metadata": {},
   "outputs": [
    {
     "name": "stdout",
     "output_type": "stream",
     "text": [
      "------------------------------------------------\n",
      "LinearSVC(C=10, class_weight='balanced', dual=True, fit_intercept=True,\n",
      "     intercept_scaling=1, loss='squared_hinge', max_iter=1000,\n",
      "     multi_class='ovr', penalty='l2', random_state=None,\n",
      "     tol=0.0040000000000000001, verbose=0)\n",
      "*****************\n",
      "Train Data Performance:\n",
      "*****************\n",
      "Confusion Matrix: \n",
      " [[ 468   32   10    5    7]\n",
      " [  92  460   50   25   14]\n",
      " [  64   88  635  156   54]\n",
      " [  88  100  220 1519  541]\n",
      " [ 100   41   85  380 1766]]\n",
      "F1 Score:  0.692571428571\n",
      "Mean F1 Score:  0.684657201845\n",
      "Weighted Mean F1 Score:  0.691764558533\n",
      "*****************\n",
      "Validation Data Performance:\n",
      "*****************\n",
      "Confusion Matrix: \n",
      " [[ 54  17   6   3   4]\n",
      " [ 26  36  19   9   6]\n",
      " [ 12  33  62  45  12]\n",
      " [ 18  18  51 163 106]\n",
      " [ 17  11  17  65 190]]\n",
      "F1 Score:  0.505\n",
      "Mean F1 Score:  0.473052475374\n",
      "Weighted Mean F1 Score:  0.505023392405\n",
      "*****************\n",
      "Test Data Performance:\n",
      "*****************\n",
      "Confusion Matrix: \n",
      " [[ 98  28   5   4   8]\n",
      " [ 51  76  42  14   7]\n",
      " [ 28  51 112  83  26]\n",
      " [ 38  43 103 313 205]\n",
      " [ 27  18  38 153 429]]\n",
      "F1 Score:  0.514\n",
      "Mean F1 Score:  0.478081759758\n",
      "Weighted Mean F1 Score:  0.514014692365\n",
      "------------------------------------------------\n",
      "\n",
      "\n"
     ]
    }
   ],
   "source": [
    "narrowed_linear_SVC_params = dict(penalty=['l2'], loss=['squared_hinge'], class_weight=['balanced'],\n",
    "                         tol= np.arange(0.001, 0.009, 0.001), max_iter=[1000, 10000], C= np.arange(10, 100, 10))\n",
    "\n",
    "yelp_freq_LSVC = auto_training(None, yelp_train_frequency_matrix, yelp_train.loc[:, [1]], yelp_valid_frequency_matrix,\n",
    "              yelp_valid.loc[:, [1]], yelp_test_frequency_matrix, yelp_test.loc[:, [1]], speedy=False, full_results= True, \n",
    "              parameters= narrowed_linear_SVC_params, model_name=\"LinearSVC\")"
   ]
  },
  {
   "cell_type": "markdown",
   "metadata": {},
   "source": [
    "## Summary"
   ]
  },
  {
   "cell_type": "code",
   "execution_count": 32,
   "metadata": {},
   "outputs": [
    {
     "data": {
      "image/png": "[encoded data removed]",
      "text/plain": [
       "<matplotlib.figure.Figure at 0x1fd1f275860>"
      ]
     },
     "metadata": {},
     "output_type": "display_data"
    }
   ],
   "source": [
    "# Some visualization for the results\n",
    "N = 5\n",
    "\n",
    "Bin_U_f = f1_score(yelp_test.loc[:, [1]].astype(int), pd.DataFrame(yelp_uniform_random_classifier.predict(yelp_test_binary_matrix)).astype(int), \n",
    "                       average='macro')\n",
    "\n",
    "Bin_M_f = f1_score(yelp_test.loc[:, [1]].astype(int), pd.DataFrame(yelp_majority_classifier.predict(yelp_test_binary_matrix)).astype(int), \n",
    "                       average='macro')\n",
    "\n",
    "Bin_NB_f = f1_score(yelp_test.loc[:, [1]].astype(int), pd.DataFrame(yelp_binary_NBC.predict(yelp_test_binary_matrix)).astype(int), \n",
    "                       average='macro')\n",
    "\n",
    "Bin_DT_f = f1_score(yelp_test.loc[:, [1]].astype(int), pd.DataFrame(yelp_binary_DTC.predict(yelp_test_binary_matrix)).astype(int), \n",
    "                       average='macro')\n",
    "\n",
    "Bin_LSVC_f = f1_score(yelp_test.loc[:, [1]].astype(int), pd.DataFrame(yelp_binary_LSVC.predict(yelp_test_binary_matrix)).astype(int), \n",
    "                       average='macro')\n",
    "\n",
    "binary_f_means = (Bin_U_f, Bin_M_f, Bin_NB_f, Bin_DT_f, Bin_LSVC_f)\n",
    "\n",
    "ind = np.arange(N)\n",
    "width = 0.35\n",
    "\n",
    "fig, ax = plt.subplots()\n",
    "rects1 = ax.bar(ind, binary_f_means, width, color='r')\n",
    "\n",
    "Freq_U_f = f1_score(yelp_test.loc[:, [1]].astype(int), pd.DataFrame(yelp_uniform_random_classifier.predict(yelp_test_frequency_matrix)).astype(int), \n",
    "                       average='macro')\n",
    "\n",
    "Freq_M_f = f1_score(yelp_test.loc[:, [1]].astype(int), pd.DataFrame(yelp_majority_classifier.predict(yelp_test_frequency_matrix)).astype(int), \n",
    "                       average='macro')\n",
    "\n",
    "Freq_NB_f = f1_score(yelp_test.loc[:, [1]].astype(int), pd.DataFrame(yelp_freq_NBC.predict(yelp_test_frequency_matrix)).astype(int), \n",
    "                       average='macro')\n",
    "\n",
    "Freq_DT_f = f1_score(yelp_test.loc[:, [1]].astype(int), pd.DataFrame(yelp_freq_DTC.predict(yelp_test_frequency_matrix)).astype(int), \n",
    "                       average='macro')\n",
    "\n",
    "Freq_LSVC_f = f1_score(yelp_test.loc[:, [1]].astype(int), pd.DataFrame(yelp_freq_LSVC.predict(yelp_test_frequency_matrix)).astype(int), \n",
    "                       average='macro')\n",
    "\n",
    "freq_f_means = (Freq_U_f, Freq_M_f, Freq_NB_f, Freq_DT_f, Freq_LSVC_f)\n",
    "rects2 = ax.bar(ind + width, freq_f_means, width, color='b')\n",
    "\n",
    "# add some text for labels, title and axes ticks\n",
    "ax.set_ylabel('Mean F1 Scores')\n",
    "ax.set_title('Scores by classifier and bag of words representation',  y=1.08)\n",
    "ax.set_xticks(ind + width / 2)\n",
    "ax.set_xticklabels(('Uniform Random', 'Majority', 'Naive Bayes', 'Decision Tree', 'LinearSVC'))\n",
    "\n",
    "ax.legend((rects1[0], rects2[0]), ('Binary', 'Freqeuncy'))\n",
    "\n",
    "\n",
    "def autolabel(rects, labels):\n",
    "    \"\"\"\n",
    "    Attach a text label above each bar displaying its height\n",
    "    \"\"\"\n",
    "    for rect, label in zip(rects, labels):\n",
    "        height = rect.get_height()\n",
    "        ax.text(rect.get_x() + rect.get_width()/2., 1.05*height,\n",
    "                '%.3f' % label,\n",
    "                ha='center', va='bottom', fontweight = 'bold')\n",
    "\n",
    "autolabel(rects1, binary_f_means)\n",
    "autolabel(rects2, freq_f_means)\n",
    "\n",
    "plt.show()"
   ]
  },
  {
   "cell_type": "markdown",
   "metadata": {},
   "source": [
    "### Observations:\n",
    "\n",
    "- All models preformed better than the baseline\n",
    "- Frequency bag-of-words representation consistently produced better results\n",
    "- LinearSVC preformed the best, although it is worth mentioning that on the frequency representation Naive Bayes preformed very similarly and only took a fraction of the time to train."
   ]
  },
  {
   "cell_type": "markdown",
   "metadata": {},
   "source": [
    "### Q4:"
   ]
  },
  {
   "cell_type": "markdown",
   "metadata": {},
   "source": [
    "I will repeat the exact same pipeline as in the previous questions on the IMDB datasets, starting with setting a baseline with the uniform random and majority classifiers. Note that because this is a weighted 2-class dataset the weighted mean f1 and mean f1 scores will all be the same (so I will only report the mean from here on):"
   ]
  },
  {
   "cell_type": "code",
   "execution_count": 33,
   "metadata": {},
   "outputs": [
    {
     "name": "stdout",
     "output_type": "stream",
     "text": [
      "------------------------------------------------\n",
      "DummyClassifier(constant=None, random_state=None, strategy='uniform')\n",
      "*****************\n",
      "Train Data Performance:\n",
      "*****************\n",
      "Confusion Matrix: \n",
      " [[3722 3778]\n",
      " [3793 3707]]\n",
      "F1 Score:  0.495266666667\n",
      "Mean F1 Score:  0.495266161933\n",
      "Weighted Mean F1 Score:  0.495266161933\n",
      "*****************\n",
      "Validation Data Performance:\n",
      "*****************\n",
      "Confusion Matrix: \n",
      " [[2512 2488]\n",
      " [2484 2516]]\n",
      "F1 Score:  0.5028\n",
      "Mean F1 Score:  0.502799920448\n",
      "Weighted Mean F1 Score:  0.502799920448\n",
      "*****************\n",
      "Test Data Performance:\n",
      "*****************\n",
      "Confusion Matrix: \n",
      " [[6244 6256]\n",
      " [6283 6217]]\n",
      "F1 Score:  0.49844\n",
      "Mean F1 Score:  0.49843941498\n",
      "Weighted Mean F1 Score:  0.49843941498\n",
      "------------------------------------------------\n",
      "\n",
      "\n"
     ]
    }
   ],
   "source": [
    "IMDB_train_binary_matrix = binary_vectorize_toMatrix(IMDB_train)\n",
    "IMDB_valid_binary_matrix = binary_vectorize_toMatrix(IMDB_valid)\n",
    "IMDB_test_binary_matrix = binary_vectorize_toMatrix(IMDB_test)\n",
    "\n",
    "IMDB_uniform_random_classifier = DummyClassifier(strategy='uniform')\n",
    "\n",
    "IMDB_uniform_random_classifier = auto_training(IMDB_uniform_random_classifier, IMDB_train_binary_matrix, IMDB_train[1], IMDB_valid_binary_matrix,\n",
    "              IMDB_valid[1], IMDB_test_binary_matrix, IMDB_test[1], speedy=False, full_results=True)"
   ]
  },
  {
   "cell_type": "code",
   "execution_count": 34,
   "metadata": {},
   "outputs": [
    {
     "name": "stdout",
     "output_type": "stream",
     "text": [
      "------------------------------------------------\n",
      "BernoulliNB(alpha=0.01, binarize=0.0, class_prior=None, fit_prior=True)\n",
      "Validation Data Performance:\n",
      "*****************\n",
      "Confusion Matrix: \n",
      " [[4274  726]\n",
      " [ 842 4158]]\n",
      "F1 Score:  0.8432\n",
      "Mean F1 Score:  0.843178898153\n",
      "*****************\n",
      "\n",
      "\n"
     ]
    }
   ],
   "source": [
    "naive_bayes_params = dict(alpha=np.array([100, 10, 1, 0.1, 0.01, 0.001, 0.0001, 0.00001, 0.000001, 0.0000001]),\n",
    "                          fit_prior=[True, False])\n",
    "\n",
    "IMDB_binary_NBC = auto_training(None, IMDB_train_binary_matrix, IMDB_train.loc[:, [1]], IMDB_valid_binary_matrix,\n",
    "              IMDB_valid.loc[:, [1]], IMDB_test_binary_matrix, IMDB_test.loc[:, [1]], speedy=False,\n",
    "              parameters=naive_bayes_params, model_name=\"Bernoulli\", weighted_mean = False)"
   ]
  },
  {
   "cell_type": "code",
   "execution_count": 35,
   "metadata": {},
   "outputs": [
    {
     "name": "stdout",
     "output_type": "stream",
     "text": [
      "------------------------------------------------\n",
      "BernoulliNB(alpha=0.014, binarize=0.0, class_prior=None, fit_prior=True)\n",
      "*****************\n",
      "Train Data Performance:\n",
      "*****************\n",
      "Confusion Matrix: \n",
      " [[6654  846]\n",
      " [1079 6421]]\n",
      "F1 Score:  0.871666666667\n",
      "Mean F1 Score:  0.871635694356\n",
      "*****************\n",
      "Validation Data Performance:\n",
      "*****************\n",
      "Confusion Matrix: \n",
      " [[4275  725]\n",
      " [ 841 4159]]\n",
      "F1 Score:  0.8434\n",
      "Mean F1 Score:  0.843378925068\n",
      "*****************\n",
      "Test Data Performance:\n",
      "*****************\n",
      "Confusion Matrix: \n",
      " [[10819  1681]\n",
      " [ 2449 10051]]\n",
      "F1 Score:  0.8348\n",
      "Mean F1 Score:  0.834643950453\n",
      "------------------------------------------------\n",
      "\n",
      "\n"
     ]
    }
   ],
   "source": [
    "narrowed_naive_bayes_params = dict(alpha=np.arange(0.002, 0.09, 0.001), fit_prior=[True])\n",
    "\n",
    "IMDB_binary_NBC = auto_training(None, IMDB_train_binary_matrix, IMDB_train.loc[:, [1]], IMDB_valid_binary_matrix,\n",
    "              IMDB_valid.loc[:, [1]], IMDB_test_binary_matrix, IMDB_test.loc[:, [1]], speedy=False, full_results = True, \n",
    "              parameters= narrowed_naive_bayes_params, model_name=\"Bernoulli\", weighted_mean = False)"
   ]
  },
  {
   "cell_type": "code",
   "execution_count": 36,
   "metadata": {},
   "outputs": [
    {
     "name": "stdout",
     "output_type": "stream",
     "text": [
      "------------------------------------------------\n",
      "DecisionTreeClassifier(class_weight='balanced', criterion='gini', max_depth=1,\n",
      "            max_features=None, max_leaf_nodes=None,\n",
      "            min_impurity_decrease=0.0, min_impurity_split=2,\n",
      "            min_samples_leaf=1, min_samples_split=2,\n",
      "            min_weight_fraction_leaf=0.0, presort=False, random_state=None,\n",
      "            splitter='best')\n",
      "*****************\n",
      "Train Data Performance:\n",
      "*****************\n",
      "Confusion Matrix: \n",
      " [[7500    0]\n",
      " [7500    0]]\n",
      "F1 Score:  0.5\n",
      "Mean F1 Score:  0.333333333333\n",
      "*****************\n",
      "Validation Data Performance:\n",
      "*****************\n",
      "Confusion Matrix: \n",
      " [[5000    0]\n",
      " [5000    0]]\n",
      "F1 Score:  0.5\n",
      "Mean F1 Score:  0.333333333333\n",
      "*****************\n",
      "Test Data Performance:\n",
      "*****************\n",
      "Confusion Matrix: \n",
      " [[12500     0]\n",
      " [12500     0]]\n",
      "F1 Score:  0.5\n",
      "Mean F1 Score:  0.333333333333\n",
      "------------------------------------------------\n",
      "\n",
      "\n"
     ]
    }
   ],
   "source": [
    "decision_tree_params = dict(criteria=['gini', 'entropy'], splitter=['best', 'random'], max_depth=list(range(1, 10)),\n",
    "                            min_samples_split= list(range(2, 10)), min_samples_leaf=list(range(1, 10)), class_weight=[\"balanced\", None])\n",
    "\n",
    "IMDB_binary_DTC = auto_training(None, IMDB_train_binary_matrix, IMDB_train.loc[:, [1]], IMDB_valid_binary_matrix,\n",
    "              IMDB_valid.loc[:, [1]], IMDB_test_binary_matrix, IMDB_test.loc[:, [1]], speedy=False, full_results = True, \n",
    "              parameters= decision_tree_params, model_name=\"DecisionTree\", weighted_mean = False)"
   ]
  },
  {
   "cell_type": "code",
   "execution_count": 37,
   "metadata": {},
   "outputs": [
    {
     "name": "stdout",
     "output_type": "stream",
     "text": [
      "------------------------------------------------\n",
      "LinearSVC(C=0.01, class_weight=None, dual=True, fit_intercept=True,\n",
      "     intercept_scaling=1, loss='squared_hinge', max_iter=1000,\n",
      "     multi_class='ovr', penalty='l2', random_state=None,\n",
      "     tol=0.10000000000000001, verbose=0)\n",
      "Validation Data Performance:\n",
      "*****************\n",
      "Confusion Matrix: \n",
      " [[4362  638]\n",
      " [ 593 4407]]\n",
      "F1 Score:  0.8769\n",
      "Mean F1 Score:  0.876897507175\n",
      "*****************\n",
      "\n",
      "\n"
     ]
    }
   ],
   "source": [
    "linear_SVC_params = dict(penalty=['l1', 'l2'], loss=['hinge', 'squared_hinge'], class_weight=[None, 'balanced'],\n",
    "                         tol=np.array([1, 0.1, 0.01, 0.001, 0.0001, 0.00001, 0.0000001, 0.00000001]), max_iter =[1000],\n",
    "                         C=([1000, 100, 10, 1, 0.1, 0.01, 0.001, 0.0001, 0.00001, 0.0000001, 0.00000001]))\n",
    "\n",
    "IMDB_binary_LSVC = auto_training(None, IMDB_train_binary_matrix, IMDB_train.loc[:, [1]], IMDB_valid_binary_matrix,\n",
    "              IMDB_valid.loc[:, [1]], IMDB_test_binary_matrix, IMDB_test.loc[:, [1]], speedy=False, \n",
    "              parameters= linear_SVC_params, model_name=\"LinearSVC\", weighted_mean = False)"
   ]
  },
  {
   "cell_type": "code",
   "execution_count": 38,
   "metadata": {},
   "outputs": [
    {
     "name": "stdout",
     "output_type": "stream",
     "text": [
      "------------------------------------------------\n",
      "LinearSVC(C=0.0060000000000000001, class_weight='balanced', dual=True,\n",
      "     fit_intercept=True, intercept_scaling=1, loss='squared_hinge',\n",
      "     max_iter=1000, multi_class='ovr', penalty='l2', random_state=None,\n",
      "     tol=1.6000000000000003, verbose=0)\n",
      "*****************\n",
      "Train Data Performance:\n",
      "*****************\n",
      "Confusion Matrix: \n",
      " [[7109  391]\n",
      " [ 327 7173]]\n",
      "F1 Score:  0.952133333333\n",
      "Mean F1 Score:  0.952132461931\n",
      "*****************\n",
      "Validation Data Performance:\n",
      "*****************\n",
      "Confusion Matrix: \n",
      " [[4376  624]\n",
      " [ 587 4413]]\n",
      "F1 Score:  0.8789\n",
      "Mean F1 Score:  0.878898342118\n",
      "*****************\n",
      "Test Data Performance:\n",
      "*****************\n",
      "Confusion Matrix: \n",
      " [[10925  1575]\n",
      " [ 1572 10928]]\n",
      "F1 Score:  0.87412\n",
      "Mean F1 Score:  0.874119998187\n",
      "------------------------------------------------\n",
      "\n",
      "\n"
     ]
    }
   ],
   "source": [
    "narrowed_linear_SVC_params = dict(penalty=['l2'], loss=['squared_hinge'], class_weight=['balanced'],\n",
    "                         tol=np.arange(0.2, 9.9, 0.1), max_iter =[1000, 10000],\n",
    "                         C=np.arange(0.002, 0.099, 0.001))\n",
    "\n",
    "IMDB_binary_LSVC = auto_training(None, IMDB_train_binary_matrix, IMDB_train.loc[:, [1]], IMDB_valid_binary_matrix,\n",
    "              IMDB_valid.loc[:, [1]], IMDB_test_binary_matrix, IMDB_test.loc[:, [1]], speedy=False, full_results = True, \n",
    "              parameters= narrowed_linear_SVC_params, model_name=\"LinearSVC\", weighted_mean = False)"
   ]
  },
  {
   "cell_type": "markdown",
   "metadata": {},
   "source": [
    "Now with frequency bag-of-words representation:"
   ]
  },
  {
   "cell_type": "code",
   "execution_count": 39,
   "metadata": {},
   "outputs": [
    {
     "name": "stdout",
     "output_type": "stream",
     "text": [
      "------------------------------------------------\n",
      "MultinomialNB(alpha=0.0001, class_prior=None, fit_prior=True)\n",
      "Validation Data Performance:\n",
      "*****************\n",
      "Confusion Matrix: \n",
      " [[4230  770]\n",
      " [ 735 4265]]\n",
      "F1 Score:  0.8495\n",
      "Mean F1 Score:  0.849498156352\n",
      "*****************\n",
      "\n",
      "\n"
     ]
    }
   ],
   "source": [
    "IMDB_train_frequency_matrix = frequency_vectorize_toMatrix(IMDB_train)\n",
    "IMDB_valid_frequency_matrix = frequency_vectorize_toMatrix(IMDB_valid)\n",
    "IMDB_test_frequency_matrix = frequency_vectorize_toMatrix(IMDB_test)\n",
    "\n",
    "IMDB_freq_NBC = auto_training(None, IMDB_train_frequency_matrix, IMDB_train.loc[:, [1]], IMDB_valid_frequency_matrix,\n",
    "              IMDB_valid.loc[:, [1]], IMDB_test_frequency_matrix, IMDB_test.loc[:, [1]], speedy=False,\n",
    "              parameters=naive_bayes_params, model_name=\"Multinomial\", weighted_mean = False)"
   ]
  },
  {
   "cell_type": "code",
   "execution_count": 40,
   "metadata": {},
   "outputs": [
    {
     "name": "stdout",
     "output_type": "stream",
     "text": [
      "------------------------------------------------\n",
      "MultinomialNB(alpha=0.00010000000000000002, class_prior=None, fit_prior=True)\n",
      "*****************\n",
      "Train Data Performance:\n",
      "*****************\n",
      "Confusion Matrix: \n",
      " [[6611  889]\n",
      " [ 882 6618]]\n",
      "F1 Score:  0.881933333333\n",
      "Mean F1 Score:  0.881933307621\n",
      "*****************\n",
      "Validation Data Performance:\n",
      "*****************\n",
      "Confusion Matrix: \n",
      " [[4230  770]\n",
      " [ 735 4265]]\n",
      "F1 Score:  0.8495\n",
      "Mean F1 Score:  0.849498156352\n",
      "*****************\n",
      "Test Data Performance:\n",
      "*****************\n",
      "Confusion Matrix: \n",
      " [[10612  1888]\n",
      " [ 2220 10280]]\n",
      "F1 Score:  0.83568\n",
      "Mean F1 Score:  0.835651015676\n",
      "------------------------------------------------\n",
      "\n",
      "\n"
     ]
    }
   ],
   "source": [
    "narrowed_naive_bayes_params = dict(alpha=np.arange(0.00002, 0.00099, 0.00001), fit_prior=[True])\n",
    "\n",
    "IMDB_freq_NBC = auto_training(None, IMDB_train_frequency_matrix, IMDB_train.loc[:, [1]], IMDB_valid_frequency_matrix,\n",
    "              IMDB_valid.loc[:, [1]], IMDB_test_frequency_matrix, IMDB_test.loc[:, [1]], speedy=False, full_results = True, \n",
    "              parameters=narrowed_naive_bayes_params, model_name=\"Multinomial\", weighted_mean = False)"
   ]
  },
  {
   "cell_type": "code",
   "execution_count": 41,
   "metadata": {},
   "outputs": [
    {
     "name": "stdout",
     "output_type": "stream",
     "text": [
      "------------------------------------------------\n",
      "DecisionTreeClassifier(class_weight='balanced', criterion='gini', max_depth=1,\n",
      "            max_features=None, max_leaf_nodes=None,\n",
      "            min_impurity_decrease=0.0, min_impurity_split=2,\n",
      "            min_samples_leaf=1, min_samples_split=2,\n",
      "            min_weight_fraction_leaf=0.0, presort=False, random_state=None,\n",
      "            splitter='best')\n",
      "*****************\n",
      "Train Data Performance:\n",
      "*****************\n",
      "Confusion Matrix: \n",
      " [[7500    0]\n",
      " [7500    0]]\n",
      "F1 Score:  0.5\n",
      "Mean F1 Score:  0.333333333333\n",
      "*****************\n",
      "Validation Data Performance:\n",
      "*****************\n",
      "Confusion Matrix: \n",
      " [[5000    0]\n",
      " [5000    0]]\n",
      "F1 Score:  0.5\n",
      "Mean F1 Score:  0.333333333333\n",
      "*****************\n",
      "Test Data Performance:\n",
      "*****************\n",
      "Confusion Matrix: \n",
      " [[12500     0]\n",
      " [12500     0]]\n",
      "F1 Score:  0.5\n",
      "Mean F1 Score:  0.333333333333\n",
      "------------------------------------------------\n",
      "\n",
      "\n"
     ]
    }
   ],
   "source": [
    "IMDB_freq_DTC = auto_training(None, IMDB_train_frequency_matrix, IMDB_train.loc[:, [1]], IMDB_valid_frequency_matrix,\n",
    "              IMDB_valid.loc[:, [1]], IMDB_test_frequency_matrix, IMDB_test.loc[:, [1]], speedy=False, full_results = True, \n",
    "              parameters= decision_tree_params, model_name=\"DecisionTree\", weighted_mean = False)"
   ]
  },
  {
   "cell_type": "code",
   "execution_count": 42,
   "metadata": {},
   "outputs": [
    {
     "name": "stdout",
     "output_type": "stream",
     "text": [
      "------------------------------------------------\n",
      "LinearSVC(C=100, class_weight='balanced', dual=True, fit_intercept=True,\n",
      "     intercept_scaling=1, loss='squared_hinge', max_iter=1000,\n",
      "     multi_class='ovr', penalty='l2', random_state=None,\n",
      "     tol=1.0000000000000001e-05, verbose=0)\n",
      "Validation Data Performance:\n",
      "*****************\n",
      "Confusion Matrix: \n",
      " [[4357  643]\n",
      " [ 557 4443]]\n",
      "F1 Score:  0.88\n",
      "Mean F1 Score:  0.879991124144\n",
      "*****************\n",
      "\n",
      "\n"
     ]
    }
   ],
   "source": [
    "IMDB_freq_LSVC = auto_training(None, IMDB_train_frequency_matrix, IMDB_train.loc[:, [1]], IMDB_valid_frequency_matrix,\n",
    "              IMDB_valid.loc[:, [1]], IMDB_test_frequency_matrix, IMDB_test.loc[:, [1]], speedy=False, \n",
    "              parameters= linear_SVC_params, model_name=\"LinearSVC\", weighted_mean = False)"
   ]
  },
  {
   "cell_type": "code",
   "execution_count": 43,
   "metadata": {},
   "outputs": [
    {
     "name": "stdout",
     "output_type": "stream",
     "text": [
      "------------------------------------------------\n",
      "LinearSVC(C=200, class_weight='balanced', dual=True, fit_intercept=True,\n",
      "     intercept_scaling=1, loss='squared_hinge', max_iter=1000,\n",
      "     multi_class='ovr', penalty='l2', random_state=None,\n",
      "     tol=4.0000000000000003e-05, verbose=0)\n",
      "*****************\n",
      "Train Data Performance:\n",
      "*****************\n",
      "Confusion Matrix: \n",
      " [[7077  423]\n",
      " [ 235 7265]]\n",
      "F1 Score:  0.956133333333\n",
      "Mean F1 Score:  0.95612644148\n",
      "*****************\n",
      "Validation Data Performance:\n",
      "*****************\n",
      "Confusion Matrix: \n",
      " [[4277  723]\n",
      " [ 478 4522]]\n",
      "F1 Score:  0.8799\n",
      "Mean F1 Score:  0.879827866677\n",
      "*****************\n",
      "Test Data Performance:\n",
      "*****************\n",
      "Confusion Matrix: \n",
      " [[10662  1838]\n",
      " [ 1358 11142]]\n",
      "F1 Score:  0.87216\n",
      "Mean F1 Score:  0.872112855683\n",
      "------------------------------------------------\n",
      "\n",
      "\n"
     ]
    }
   ],
   "source": [
    "narrowed_linear_SVC_params = dict(penalty=['l2'], loss=['squared_hinge'], class_weight=['balanced'],\n",
    "                         tol= np.arange(0.00001, 0.00009, 0.00001), max_iter=[1000, 10000], C= np.arange(100, 1000, 100))\n",
    "\n",
    "IMDB_freq_LSVC = auto_training(None, IMDB_train_frequency_matrix, IMDB_train.loc[:, [1]], IMDB_valid_frequency_matrix,\n",
    "              IMDB_valid.loc[:, [1]], IMDB_test_frequency_matrix, IMDB_test.loc[:, [1]], speedy=False, full_results = True, \n",
    "              parameters= narrowed_linear_SVC_params, model_name=\"LinearSVC\", weighted_mean = False)"
   ]
  },
  {
   "cell_type": "markdown",
   "metadata": {},
   "source": [
    "## Summary\n",
    "\n"
   ]
  },
  {
   "cell_type": "code",
   "execution_count": 51,
   "metadata": {},
   "outputs": [
    {
     "data": {
      "image/png": "[encoded data removed]",
      "text/plain": [
       "<matplotlib.figure.Figure at 0x1fd1f620f28>"
      ]
     },
     "metadata": {},
     "output_type": "display_data"
    }
   ],
   "source": [
    "# Some visualization for the results\n",
    "N = 4\n",
    "\n",
    "I_Bin_U_f = f1_score(IMDB_test.loc[:, [1]].astype(int), pd.DataFrame(IMDB_uniform_random_classifier.predict(IMDB_test_binary_matrix)).astype(int), \n",
    "                       average='macro')\n",
    "\n",
    "I_Bin_NB_f = f1_score(IMDB_test.loc[:, [1]].astype(int), pd.DataFrame(IMDB_binary_NBC.predict(IMDB_test_binary_matrix)).astype(int), \n",
    "                       average='macro')\n",
    "\n",
    "I_Bin_DT_f = f1_score(IMDB_test.loc[:, [1]].astype(int), pd.DataFrame(IMDB_binary_DTC.predict(IMDB_test_binary_matrix)).astype(int), \n",
    "                       average='macro')\n",
    "\n",
    "I_Bin_LSVC_f = f1_score(IMDB_test.loc[:, [1]].astype(int), pd.DataFrame(IMDB_binary_LSVC.predict(IMDB_test_binary_matrix)).astype(int), \n",
    "                       average='macro')\n",
    "\n",
    "I_binary_f_means = (I_Bin_U_f, I_Bin_NB_f, I_Bin_DT_f, I_Bin_LSVC_f)\n",
    "\n",
    "ind2 = np.arange(N)\n",
    "width = 0.35\n",
    "\n",
    "fig, ax = plt.subplots()\n",
    "rects3 = ax.bar(ind2, I_binary_f_means, width, color='r')\n",
    "\n",
    "I_Freq_U_f = f1_score(IMDB_test.loc[:, [1]].astype(int), pd.DataFrame(IMDB_uniform_random_classifier.predict(IMDB_test_frequency_matrix)).astype(int), \n",
    "                       average='macro')\n",
    "\n",
    "I_Freq_NB_f = f1_score(IMDB_test.loc[:, [1]].astype(int), pd.DataFrame(IMDB_freq_NBC.predict(IMDB_test_frequency_matrix)).astype(int), \n",
    "                       average='macro')\n",
    "\n",
    "I_Freq_DT_f = f1_score(IMDB_test.loc[:, [1]].astype(int), pd.DataFrame(IMDB_freq_DTC.predict(IMDB_test_frequency_matrix)).astype(int), \n",
    "                       average='macro')\n",
    "\n",
    "I_Freq_LSVC_f = f1_score(IMDB_test.loc[:, [1]].astype(int), pd.DataFrame(IMDB_freq_LSVC.predict(IMDB_test_frequency_matrix)).astype(int), \n",
    "                       average='macro')\n",
    "\n",
    "I_freq_f_means = (I_Freq_U_f, I_Freq_NB_f, I_Freq_DT_f, I_Freq_LSVC_f)\n",
    "\n",
    "rects4 = ax.bar(ind2 + width, I_freq_f_means, width, color='b')\n",
    "\n",
    "# add some text for labels, title and axes ticks\n",
    "ax.set_ylabel('Mean F1 Score')\n",
    "ax.set_title('Scores by classifier and bag of words representation',  y=1.08)\n",
    "ax.set_xticks(ind2 + width / 2)\n",
    "ax.set_xticklabels(('Uniform Random', 'Naive Bayes', 'Decision Tree', 'LinearSVC'))\n",
    "\n",
    "ax.legend((rects3[0], rects4[0]), ('Binary', 'Freqeuncy'))\n",
    "\n",
    "\n",
    "def autolabel(rects, labels):\n",
    "    \"\"\"\n",
    "    Attach a text label above each bar displaying its height\n",
    "    \"\"\"\n",
    "    for rect, label in zip(rects, labels):\n",
    "        height = rect.get_height()\n",
    "        ax.text(rect.get_x() + rect.get_width()/2., 1.05*height,\n",
    "                '%.3f' % label,\n",
    "                ha='center', va='bottom', fontweight = 'bold')\n",
    "\n",
    "autolabel(rects3, I_binary_f_means)\n",
    "autolabel(rects4, I_freq_f_means)\n",
    "\n",
    "plt.show()"
   ]
  },
  {
   "cell_type": "markdown",
   "metadata": {},
   "source": [
    "### Observations:\n",
    "\n",
    "The \"Unreasonable Effectiveness of Data\" is shown quite clearly here. The fact that we used a weighted dataset for a 2-class problem influenced the results of the classifiers more than any hyperparemeter tuning, and led to some interesting properties, namely:\n",
    "\n",
    "- There is negligible difference in the preformance of the binary and frequency bag of words representations\n",
    "- The Decision Tree classifier preformed worse than the baseline, and looking at the classifier's properties one can see that the maximum depth is only 1, likely because the dataset is weighted (and entropy/information gain doesn't work as well on 2-class datasets) so the best prediction is either branching to class 1 or class 2 from the start\n",
    "- All the classifiers preformed better than the classifiers on the yelp dataset"
   ]
  }
 ],
 "metadata": {
  "kernelspec": {
   "display_name": "Python 3",
   "language": "python",
   "name": "python3"
  },
  "language_info": {
   "codemirror_mode": {
    "name": "ipython",
    "version": 3
   },
   "file_extension": ".py",
   "mimetype": "text/x-python",
   "name": "python",
   "nbconvert_exporter": "python",
   "pygments_lexer": "ipython3",
   "version": "3.6.2"
  }
 },
 "nbformat": 4,
 "nbformat_minor": 2
}
